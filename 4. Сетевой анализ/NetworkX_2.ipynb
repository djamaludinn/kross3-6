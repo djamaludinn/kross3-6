{
 "cells": [
  {
   "cell_type": "code",
   "execution_count": 17,
   "metadata": {},
   "outputs": [],
   "source": [
    "import numpy as np\n",
    "import pandas as pd\n",
    "import matplotlib.pyplot as plt\n",
    "%matplotlib inline\n",
    "import networkx as nx\n",
    "import seaborn as sns"
   ]
  },
  {
   "cell_type": "markdown",
   "metadata": {},
   "source": [
    "## Вспоминаем прошлый семинар\n",
    "\n",
    "Считаем данные о станциях московского метрополитена в 2014 году:"
   ]
  },
  {
   "cell_type": "code",
   "execution_count": 4,
   "metadata": {},
   "outputs": [],
   "source": [
    "metro_data = pd.read_csv('metro_2014_pairwise.csv')"
   ]
  },
  {
   "cell_type": "markdown",
   "metadata": {},
   "source": [
    "Формат такой: две станции записаны в одной строке, если между ними есть перегон."
   ]
  },
  {
   "cell_type": "markdown",
   "metadata": {},
   "source": [
    "Загрузим данные в граф из подготовленной таблицы:\n",
    "\n"
   ]
  },
  {
   "cell_type": "code",
   "execution_count": 22,
   "metadata": {},
   "outputs": [
    {
     "name": "stdout",
     "output_type": "stream",
     "text": [
      "Name: \n",
      "Type: Graph\n",
      "Number of nodes: 194\n",
      "Number of edges: 229\n",
      "Average degree:   2.3608\n"
     ]
    }
   ],
   "source": [
    "metro_graph = nx.from_pandas_edgelist(metro_data, source='Start station', target='End station')\n",
    "\n",
    "# Указываем, что направление перегона между станциями нас не интересует.\n",
    "# (как правило, можем поехать в обе стороны)\n",
    "metro_graph = nx.to_undirected(metro_graph)\n",
    "\n",
    "print(nx.info(metro_graph))"
   ]
  },
  {
   "cell_type": "markdown",
   "metadata": {},
   "source": [
    "### Метрики на графе"
   ]
  },
  {
   "cell_type": "markdown",
   "metadata": {},
   "source": [
    "Вычислим плотность сети:"
   ]
  },
  {
   "cell_type": "code",
   "execution_count": 23,
   "metadata": {},
   "outputs": [
    {
     "data": {
      "text/plain": [
       "0.012232252550611613"
      ]
     },
     "execution_count": 23,
     "metadata": {},
     "output_type": "execute_result"
    }
   ],
   "source": [
    "nx.density(metro_graph)"
   ]
  },
  {
   "cell_type": "markdown",
   "metadata": {},
   "source": [
    "Вычислим коэффициент кластеризации для графа:"
   ]
  },
  {
   "cell_type": "code",
   "execution_count": 24,
   "metadata": {},
   "outputs": [
    {
     "data": {
      "text/plain": [
       "0.064"
      ]
     },
     "execution_count": 24,
     "metadata": {},
     "output_type": "execute_result"
    }
   ],
   "source": [
    "nx.transitivity(metro_graph)"
   ]
  },
  {
   "cell_type": "markdown",
   "metadata": {},
   "source": [
    "Вычислим центральности:"
   ]
  },
  {
   "cell_type": "code",
   "execution_count": 25,
   "metadata": {},
   "outputs": [],
   "source": [
    "degree = nx.degree_centrality(metro_graph)\n",
    "betweenness = nx.betweenness_centrality(metro_graph)\n",
    "closeness = nx.closeness_centrality(metro_graph)"
   ]
  },
  {
   "cell_type": "code",
   "execution_count": 26,
   "metadata": {},
   "outputs": [
    {
     "data": {
      "text/html": [
       "<div>\n",
       "<style scoped>\n",
       "    .dataframe tbody tr th:only-of-type {\n",
       "        vertical-align: middle;\n",
       "    }\n",
       "\n",
       "    .dataframe tbody tr th {\n",
       "        vertical-align: top;\n",
       "    }\n",
       "\n",
       "    .dataframe thead th {\n",
       "        text-align: right;\n",
       "    }\n",
       "</style>\n",
       "<table border=\"1\" class=\"dataframe\">\n",
       "  <thead>\n",
       "    <tr style=\"text-align: right;\">\n",
       "      <th></th>\n",
       "      <th>degree</th>\n",
       "      <th>betweenness</th>\n",
       "      <th>closeness</th>\n",
       "    </tr>\n",
       "  </thead>\n",
       "  <tbody>\n",
       "    <tr>\n",
       "      <th>Сокольническая_Черкизовская</th>\n",
       "      <td>0.005181</td>\n",
       "      <td>0.000000</td>\n",
       "      <td>0.080417</td>\n",
       "    </tr>\n",
       "    <tr>\n",
       "      <th>Сокольническая_Преображенская_площадь</th>\n",
       "      <td>0.010363</td>\n",
       "      <td>0.010363</td>\n",
       "      <td>0.087409</td>\n",
       "    </tr>\n",
       "    <tr>\n",
       "      <th>Сокольническая_Сокольники</th>\n",
       "      <td>0.010363</td>\n",
       "      <td>0.020617</td>\n",
       "      <td>0.095639</td>\n",
       "    </tr>\n",
       "    <tr>\n",
       "      <th>Сокольническая_Красносельская</th>\n",
       "      <td>0.010363</td>\n",
       "      <td>0.030764</td>\n",
       "      <td>0.105464</td>\n",
       "    </tr>\n",
       "    <tr>\n",
       "      <th>Сокольническая_Комсомольская</th>\n",
       "      <td>0.015544</td>\n",
       "      <td>0.043644</td>\n",
       "      <td>0.117397</td>\n",
       "    </tr>\n",
       "    <tr>\n",
       "      <th>...</th>\n",
       "      <td>...</td>\n",
       "      <td>...</td>\n",
       "      <td>...</td>\n",
       "    </tr>\n",
       "    <tr>\n",
       "      <th>Арбатско-Покровская_Митино</th>\n",
       "      <td>0.010363</td>\n",
       "      <td>0.010363</td>\n",
       "      <td>0.061485</td>\n",
       "    </tr>\n",
       "    <tr>\n",
       "      <th>Арбатско-Покровская_Пятницкое_шоссе</th>\n",
       "      <td>0.005181</td>\n",
       "      <td>0.000000</td>\n",
       "      <td>0.057941</td>\n",
       "    </tr>\n",
       "    <tr>\n",
       "      <th>Люблинская_Марьина_Роща</th>\n",
       "      <td>0.005181</td>\n",
       "      <td>0.000000</td>\n",
       "      <td>0.100416</td>\n",
       "    </tr>\n",
       "    <tr>\n",
       "      <th>Люблинская_Шипиловская</th>\n",
       "      <td>0.010363</td>\n",
       "      <td>0.010342</td>\n",
       "      <td>0.066369</td>\n",
       "    </tr>\n",
       "    <tr>\n",
       "      <th>Таганско-Краснопресненская_Жулебино</th>\n",
       "      <td>0.005181</td>\n",
       "      <td>0.000000</td>\n",
       "      <td>0.065825</td>\n",
       "    </tr>\n",
       "  </tbody>\n",
       "</table>\n",
       "<p>194 rows × 3 columns</p>\n",
       "</div>"
      ],
      "text/plain": [
       "                                         degree  betweenness  closeness\n",
       "Сокольническая_Черкизовская            0.005181     0.000000   0.080417\n",
       "Сокольническая_Преображенская_площадь  0.010363     0.010363   0.087409\n",
       "Сокольническая_Сокольники              0.010363     0.020617   0.095639\n",
       "Сокольническая_Красносельская          0.010363     0.030764   0.105464\n",
       "Сокольническая_Комсомольская           0.015544     0.043644   0.117397\n",
       "...                                         ...          ...        ...\n",
       "Арбатско-Покровская_Митино             0.010363     0.010363   0.061485\n",
       "Арбатско-Покровская_Пятницкое_шоссе    0.005181     0.000000   0.057941\n",
       "Люблинская_Марьина_Роща                0.005181     0.000000   0.100416\n",
       "Люблинская_Шипиловская                 0.010363     0.010342   0.066369\n",
       "Таганско-Краснопресненская_Жулебино    0.005181     0.000000   0.065825\n",
       "\n",
       "[194 rows x 3 columns]"
      ]
     },
     "execution_count": 26,
     "metadata": {},
     "output_type": "execute_result"
    }
   ],
   "source": [
    "graph_measures = {\n",
    "    'degree': degree,\n",
    "    'betweenness': betweenness,\n",
    "    'closeness': closeness,\n",
    "}\n",
    "\n",
    "pd.DataFrame(graph_measures)"
   ]
  },
  {
   "cell_type": "markdown",
   "metadata": {},
   "source": [
    "Посмотрим, какие станции обладают максимальными показателями и проинтерпретируем:"
   ]
  },
  {
   "cell_type": "code",
   "execution_count": 27,
   "metadata": {},
   "outputs": [
    {
     "data": {
      "text/html": [
       "<div>\n",
       "<style scoped>\n",
       "    .dataframe tbody tr th:only-of-type {\n",
       "        vertical-align: middle;\n",
       "    }\n",
       "\n",
       "    .dataframe tbody tr th {\n",
       "        vertical-align: top;\n",
       "    }\n",
       "\n",
       "    .dataframe thead th {\n",
       "        text-align: right;\n",
       "    }\n",
       "</style>\n",
       "<table border=\"1\" class=\"dataframe\">\n",
       "  <thead>\n",
       "    <tr style=\"text-align: right;\">\n",
       "      <th></th>\n",
       "      <th>degree</th>\n",
       "      <th>betweenness</th>\n",
       "      <th>closeness</th>\n",
       "    </tr>\n",
       "  </thead>\n",
       "  <tbody>\n",
       "    <tr>\n",
       "      <th>Кольцевая_Киевская</th>\n",
       "      <td>0.020725</td>\n",
       "      <td>0.182014</td>\n",
       "      <td>0.133195</td>\n",
       "    </tr>\n",
       "    <tr>\n",
       "      <th>Арбатско-Покровская_Киевская</th>\n",
       "      <td>0.020725</td>\n",
       "      <td>0.142770</td>\n",
       "      <td>0.126226</td>\n",
       "    </tr>\n",
       "    <tr>\n",
       "      <th>Кольцевая_Парк_культуры</th>\n",
       "      <td>0.015544</td>\n",
       "      <td>0.142050</td>\n",
       "      <td>0.133564</td>\n",
       "    </tr>\n",
       "    <tr>\n",
       "      <th>Серпуховско-Тимирязевская_Серпуховская</th>\n",
       "      <td>0.015544</td>\n",
       "      <td>0.136287</td>\n",
       "      <td>0.130142</td>\n",
       "    </tr>\n",
       "    <tr>\n",
       "      <th>Кольцевая_Октябрьская</th>\n",
       "      <td>0.015544</td>\n",
       "      <td>0.129519</td>\n",
       "      <td>0.136782</td>\n",
       "    </tr>\n",
       "    <tr>\n",
       "      <th>...</th>\n",
       "      <td>...</td>\n",
       "      <td>...</td>\n",
       "      <td>...</td>\n",
       "    </tr>\n",
       "    <tr>\n",
       "      <th>Арбатско-Покровская_Щёлковская</th>\n",
       "      <td>0.005181</td>\n",
       "      <td>0.000000</td>\n",
       "      <td>0.070644</td>\n",
       "    </tr>\n",
       "    <tr>\n",
       "      <th>Замоскворецкая_Алма-Атинская</th>\n",
       "      <td>0.005181</td>\n",
       "      <td>0.000000</td>\n",
       "      <td>0.067037</td>\n",
       "    </tr>\n",
       "    <tr>\n",
       "      <th>Замоскворецкая_Речной_вокзал</th>\n",
       "      <td>0.005181</td>\n",
       "      <td>0.000000</td>\n",
       "      <td>0.071008</td>\n",
       "    </tr>\n",
       "    <tr>\n",
       "      <th>Сокольническая_Юго-Западная</th>\n",
       "      <td>0.005181</td>\n",
       "      <td>0.000000</td>\n",
       "      <td>0.071827</td>\n",
       "    </tr>\n",
       "    <tr>\n",
       "      <th>Таганско-Краснопресненская_Жулебино</th>\n",
       "      <td>0.005181</td>\n",
       "      <td>0.000000</td>\n",
       "      <td>0.065825</td>\n",
       "    </tr>\n",
       "  </tbody>\n",
       "</table>\n",
       "<p>194 rows × 3 columns</p>\n",
       "</div>"
      ],
      "text/plain": [
       "                                          degree  betweenness  closeness\n",
       "Кольцевая_Киевская                      0.020725     0.182014   0.133195\n",
       "Арбатско-Покровская_Киевская            0.020725     0.142770   0.126226\n",
       "Кольцевая_Парк_культуры                 0.015544     0.142050   0.133564\n",
       "Серпуховско-Тимирязевская_Серпуховская  0.015544     0.136287   0.130142\n",
       "Кольцевая_Октябрьская                   0.015544     0.129519   0.136782\n",
       "...                                          ...          ...        ...\n",
       "Арбатско-Покровская_Щёлковская          0.005181     0.000000   0.070644\n",
       "Замоскворецкая_Алма-Атинская            0.005181     0.000000   0.067037\n",
       "Замоскворецкая_Речной_вокзал            0.005181     0.000000   0.071008\n",
       "Сокольническая_Юго-Западная             0.005181     0.000000   0.071827\n",
       "Таганско-Краснопресненская_Жулебино     0.005181     0.000000   0.065825\n",
       "\n",
       "[194 rows x 3 columns]"
      ]
     },
     "execution_count": 27,
     "metadata": {},
     "output_type": "execute_result"
    }
   ],
   "source": [
    "pd.DataFrame(graph_measures).sort_values(by='betweenness', ascending=False)"
   ]
  },
  {
   "cell_type": "markdown",
   "metadata": {},
   "source": [
    "## Реальные данные\n",
    "\n",
    "Подгрузка данных из файла-не таблицы осуществляется достаточно просто, если данные записаны в правильном формате. \n",
    "\n",
    "Примеры наиболее популярных форматов для чтения и сохранения графов (больше можно найти в документации NetworkX):\n",
    "- список смежных вершин (`nx.read_adjlist`, `nx.write_adjlist`, именно так хранятся графы в NetworkX)\n",
    "- список всех рёбер (`nx.read_edgelist`, `nx.write_edgelist`)\n",
    "\n",
    "Первые строки нашего файла `facebook_combined.txt` выглядят так:\n",
    "```\n",
    "214328887 34428380\n",
    "17116707 28465635\n",
    "380580781 18996905\n",
    "221036078 153460275\n",
    "107830991 17868918\n",
    "151338729 222261763\n",
    "```\n",
    "\n",
    "Каждое число обозначает имя вершины (грубо говоря, id пользователя) в графе. Если в одной строке записана пара чисел, значит, пользователи с соответствующими номерами находятся друг у друга в списке друзей."
   ]
  },
  {
   "cell_type": "code",
   "execution_count": 11,
   "metadata": {},
   "outputs": [],
   "source": [
    "facebook_users = nx.read_edgelist(\"facebook_combined.txt\") #Файла нет"
   ]
  },
  {
   "cell_type": "markdown",
   "metadata": {},
   "source": [
    "Узнайте, сколько граф содержит вершин и связей:"
   ]
  },
  {
   "cell_type": "code",
   "execution_count": 20,
   "metadata": {},
   "outputs": [
    {
     "name": "stdout",
     "output_type": "stream",
     "text": [
      "Number of nodes: 194\n",
      "Number of edges: 229\n"
     ]
    }
   ],
   "source": [
    "\n",
    "print('Number of nodes:', len(metro_graph.nodes()))\n",
    "print('Number of edges:', len(metro_graph.edges()))"
   ]
  },
  {
   "cell_type": "markdown",
   "metadata": {},
   "source": [
    "Нарисуйте граф данной сети:"
   ]
  },
  {
   "cell_type": "code",
   "execution_count": 19,
   "metadata": {},
   "outputs": [
    {
     "name": "stdout",
     "output_type": "stream",
     "text": [
      "Wall time: 0 ns\n"
     ]
    }
   ],
   "source": [
    "%%time\n",
    "\n"
   ]
  },
  {
   "cell_type": "markdown",
   "metadata": {},
   "source": [
    "Нарисуем график, отражающий распределение степеней вершины:"
   ]
  },
  {
   "cell_type": "code",
   "execution_count": 13,
   "metadata": {},
   "outputs": [
    {
     "data": {
      "text/plain": [
       "Text(0.5, 1.0, 'Facebook users connectivity degrees')"
      ]
     },
     "execution_count": 13,
     "metadata": {},
     "output_type": "execute_result"
    },
    {
     "data": {
      "image/png": "[encoded data removed]",
      "text/plain": [
       "<Figure size 504x360 with 1 Axes>"
      ]
     },
     "metadata": {
      "needs_background": "light"
     },
     "output_type": "display_data"
    }
   ],
   "source": [
    "degrees = dict(facebook_users.degree()) # dictionary node:degree\n",
    "values = sorted(set(degrees.values()))\n",
    "g_hist = [list(degrees.values()).count(x) for x in values]\n",
    "\n",
    "plt.figure(figsize=(7, 5))\n",
    "plt.plot(values, g_hist, 'o-') # degree\n",
    "\n",
    "plt.xlabel('Degree')\n",
    "plt.ylabel('Number of nodes')\n",
    "plt.title('Facebook users connectivity degrees')"
   ]
  },
  {
   "cell_type": "markdown",
   "metadata": {},
   "source": [
    "Посчитайте изветные вам центральности, найдите время вычисления для каждой из них. Составьте таблицу со значениями центральностей. Отсортируйте ее по одной из центральностей."
   ]
  }
 ],
 "metadata": {
  "kernelspec": {
   "display_name": "Python 3",
   "language": "python",
   "name": "python3"
  },
  "language_info": {
   "codemirror_mode": {
    "name": "ipython",
    "version": 3
   },
   "file_extension": ".py",
   "mimetype": "text/x-python",
   "name": "python",
   "nbconvert_exporter": "python",
   "pygments_lexer": "ipython3",
   "version": "3.8.8"
  },
  "varInspector": {
   "cols": {
    "lenName": 16,
    "lenType": 16,
    "lenVar": 40
   },
   "kernels_config": {
    "python": {
     "delete_cmd_postfix": "",
     "delete_cmd_prefix": "del ",
     "library": "var_list.py",
     "varRefreshCmd": "print(var_dic_list())"
    },
    "r": {
     "delete_cmd_postfix": ") ",
     "delete_cmd_prefix": "rm(",
     "library": "var_list.r",
     "varRefreshCmd": "cat(var_dic_list()) "
    }
   },
   "types_to_exclude": [
    "module",
    "function",
    "builtin_function_or_method",
    "instance",
    "_Feature"
   ],
   "window_display": false
  }
 },
 "nbformat": 4,
 "nbformat_minor": 2
}
