{
 "cells": [
  {
   "cell_type": "markdown",
   "metadata": {},
   "source": [
    "# Домашнее задание по библиотеке NetworkX"
   ]
  },
  {
   "cell_type": "code",
   "execution_count": 1,
   "metadata": {},
   "outputs": [],
   "source": [
    "import networkx as nx\n",
    "\n",
    "import numpy as np\n",
    "import pandas as pd\n",
    "\n",
    "import matplotlib.pyplot as plt\n",
    "%matplotlib inline"
   ]
  },
  {
   "cell_type": "markdown",
   "metadata": {},
   "source": [
    "## Задание 1 (1 балл)\n",
    "Создайте граф и добавьте в него $5$ вершин с городами России, у каждой должен быть атрибут (характеристика) `time_diff`, означающий временную разницу с Москвой в часах."
   ]
  },
  {
   "cell_type": "code",
   "execution_count": 7,
   "metadata": {},
   "outputs": [],
   "source": [
    "g = nx.Graph()\n",
    "\n",
    "g.add_node('Moscow', diff = '0')\n",
    "g.add_node('Rostov', diff = '0')\n",
    "g.add_node('Novosibirsk', diff = '4')\n",
    "g.add_node('Ekaterinburg', diff = '2')\n",
    "g.add_node('Stavropol', diff = '0')"
   ]
  },
  {
   "cell_type": "markdown",
   "metadata": {},
   "source": [
    "# Задание 2 (1 балл)\n",
    "Выберите какую-нибудь конкретную авиакомпанию (Аэрофлот, S7, Utair, etc).\n",
    "\n",
    "В созданный граф добавьте рёбра между выбранными $5$ю городами, между которыми есть авиарейсы данной компании. У каждого ребра должны быть следующие атрибуты:\n",
    "- расстояние между городами в километрах `distance`\n",
    "- время перелёта в минутах `time`\n",
    "\n",
    "При желании можно добавить в граф также несколько городов, являющихся пересадочными пунктами."
   ]
  },
  {
   "cell_type": "code",
   "execution_count": 16,
   "metadata": {},
   "outputs": [],
   "source": [
    "g.add_edge('Moscow', 'Ankara', distance = 959, time = 120)\n",
    "g.add_edge('Ankara', 'Rim', distance = 3083, time = 1255)\n",
    "g.add_edge('Ankara', 'Amman', distance = 3001, time = 265)\n",
    "g.add_edge('Rim', 'Berlin', distance = 1398, time = 150)\n",
    "g.add_edge('Amman', 'Berlin', distance = 3617, time = 452)"
   ]
  },
  {
   "cell_type": "markdown",
   "metadata": {},
   "source": [
    "## Задание 3 (1 балл)\n",
    "Выберите любую пару городов и постройте между ними следующие кратчайшие пути:\n",
    "- без взвешивания\n",
    "- со взвешиванием по расстоянию\n",
    "- со взвешиванием по времени"
   ]
  },
  {
   "cell_type": "code",
   "execution_count": 18,
   "metadata": {},
   "outputs": [
    {
     "name": "stdout",
     "output_type": "stream",
     "text": [
      "Без взвешивания:\n",
      "['Moscow', 'Ankara', 'Rim', 'Berlin']\n",
      "С взвешиванием по расстоянию\n",
      "['Moscow', 'Ankara', 'Rim', 'Berlin']\n",
      "С взвешиванием по времени\n",
      "['Moscow', 'Ankara', 'Amman', 'Berlin']\n"
     ]
    },
    {
     "data": {
      "image/png": "[encoded data removed]",
      "text/plain": [
       "<Figure size 432x288 with 1 Axes>"
      ]
     },
     "metadata": {},
     "output_type": "display_data"
    }
   ],
   "source": [
    "print('Без взвешивания:')\n",
    "print(nx.shortest_path(g, 'Moscow', 'Berlin'))\n",
    "print('С взвешиванием по расстоянию')\n",
    "print(nx.shortest_path(g, 'Moscow', 'Berlin', weight = 'distance'))\n",
    "print('С взвешиванием по времени')\n",
    "print(nx.shortest_path(g, 'Moscow', 'Berlin', weight = 'time'))\n",
    "nx.draw_networkx(g, node_color='lightblue')"
   ]
  }
 ],
 "metadata": {
  "kernelspec": {
   "display_name": "Python 3",
   "language": "python",
   "name": "python3"
  },
  "language_info": {
   "codemirror_mode": {
    "name": "ipython",
    "version": 3
   },
   "file_extension": ".py",
   "mimetype": "text/x-python",
   "name": "python",
   "nbconvert_exporter": "python",
   "pygments_lexer": "ipython3",
   "version": "3.8.8"
  }
 },
 "nbformat": 4,
 "nbformat_minor": 2
}
