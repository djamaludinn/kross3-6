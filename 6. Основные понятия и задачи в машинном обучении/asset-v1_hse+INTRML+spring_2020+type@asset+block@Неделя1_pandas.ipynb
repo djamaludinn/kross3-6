{
 "cells": [
  {
   "cell_type": "code",
   "execution_count": 1,
   "metadata": {
    "colab": {},
    "colab_type": "code",
    "id": "DVuzDDo5XDcH"
   },
   "outputs": [
    {
     "name": "stderr",
     "output_type": "stream",
     "text": [
      "\"wget\" ­Ґ пў«пҐвбп ў­гваҐ­­Ґ© Ё«Ё ў­Ґи­Ґ©\n",
      "Є®¬ ­¤®©, ЁбЇ®«­пҐ¬®© Їа®Ја ¬¬®© Ё«Ё Ї ЄҐв­л¬ д ©«®¬.\n",
      "\"id\" ­Ґ пў«пҐвбп ў­гваҐ­­Ґ© Ё«Ё ў­Ґи­Ґ©\n",
      "Є®¬ ­¤®©, ЁбЇ®«­пҐ¬®© Їа®Ја ¬¬®© Ё«Ё Ї ЄҐв­л¬ д ©«®¬.\n"
     ]
    }
   ],
   "source": [
    "# скачиваем файл\n",
    "!wget --no-check-certificate 'https://docs.google.com/uc?export=download&id=1cq9JDz8-zwzoGL6udiT_ogHHRWdnsd1q' -O math_students.csv"
   ]
  },
  {
   "cell_type": "code",
   "execution_count": 2,
   "metadata": {
    "colab": {},
    "colab_type": "code",
    "id": "mHCbkFpOXAXO"
   },
   "outputs": [],
   "source": [
    "import pandas as pd\n",
    "data = pd.read_csv('math_students.csv', delimiter=',')"
   ]
  },
  {
   "cell_type": "markdown",
   "metadata": {
    "colab_type": "text",
    "id": "1n6Q2mr1XAXX"
   },
   "source": [
    "1. Какая причина выбора школы была самой частой? В качестве ответа приведите соответствующее значение признака."
   ]
  },
  {
   "cell_type": "code",
   "execution_count": 3,
   "metadata": {
    "colab": {},
    "colab_type": "code",
    "id": "D_jubmNgXAXY"
   },
   "outputs": [
    {
     "name": "stdout",
     "output_type": "stream",
     "text": [
      "course : 145\n"
     ]
    }
   ],
   "source": [
    "s = dict(data['reason'].value_counts())\n",
    "k = list(s.keys())\n",
    "v = list(s.values())\n",
    "print(k[0],':', v[0])"
   ]
  },
  {
   "cell_type": "markdown",
   "metadata": {
    "colab_type": "text",
    "id": "02xcWVw0XAXb"
   },
   "source": [
    "2. Найдите количество студентов, у родителей которых нет никакого образования."
   ]
  },
  {
   "cell_type": "code",
   "execution_count": 4,
   "metadata": {
    "colab": {},
    "colab_type": "code",
    "id": "rQCZTAydXAXc"
   },
   "outputs": [
    {
     "data": {
      "text/plain": [
       "0"
      ]
     },
     "execution_count": 4,
     "metadata": {},
     "output_type": "execute_result"
    }
   ],
   "source": [
    "data[(data['Medu'] == 0) & ((data['Fedu'] == 0))].shape[0]"
   ]
  },
  {
   "cell_type": "markdown",
   "metadata": {
    "colab_type": "text",
    "id": "hPZhCWolXAXg"
   },
   "source": [
    "3. Найдите минимальный возраст учащегося школы Mousinho da Silveira."
   ]
  },
  {
   "cell_type": "code",
   "execution_count": 5,
   "metadata": {
    "colab": {},
    "colab_type": "code",
    "id": "iwbblqO-XAXg"
   },
   "outputs": [
    {
     "data": {
      "text/plain": [
       "17.0"
      ]
     },
     "execution_count": 5,
     "metadata": {},
     "output_type": "execute_result"
    }
   ],
   "source": [
    "data[(data['school'] == \"MS\")].describe()['age']['min']"
   ]
  },
  {
   "cell_type": "markdown",
   "metadata": {
    "colab_type": "text",
    "id": "cINy8kq-XAXk"
   },
   "source": [
    "4. Найдите количество студентов, имеющих нечетное число пропусков."
   ]
  },
  {
   "cell_type": "code",
   "execution_count": 6,
   "metadata": {
    "colab": {},
    "colab_type": "code",
    "id": "0SPhqD6GXAXl"
   },
   "outputs": [
    {
     "name": "stdout",
     "output_type": "stream",
     "text": [
      "41\n"
     ]
    }
   ],
   "source": [
    "s = 0\n",
    "for x in data['absences']:\n",
    "    if x%2 != 0:\n",
    "        s+=1\n",
    "print(s)"
   ]
  },
  {
   "cell_type": "markdown",
   "metadata": {
    "colab_type": "text",
    "id": "cGd3eKvcXAXo"
   },
   "source": [
    "5. Найдите разность между средними итоговыми оценками студентов, состоящих и не состоящих в романтических отношениях. В качестве ответа приведите число, округленное до двух значащих цифр после запятой."
   ]
  },
  {
   "cell_type": "code",
   "execution_count": 7,
   "metadata": {
    "colab": {},
    "colab_type": "code",
    "id": "tIrAEaCpXAXp"
   },
   "outputs": [
    {
     "data": {
      "text/plain": [
       "1.26"
      ]
     },
     "execution_count": 7,
     "metadata": {},
     "output_type": "execute_result"
    }
   ],
   "source": [
    "r = data.groupby('romantic')\n",
    "value = r['G3'].mean()[0] - r['G3'].mean()[1]\n",
    "round(value, 2)"
   ]
  },
  {
   "cell_type": "markdown",
   "metadata": {
    "colab_type": "text",
    "id": "m7tyMSA7XAXs"
   },
   "source": [
    "6. Сколько занятий пропустило большинство студентов с самым частым значением наличия внеклассных активностей?\n",
    "\n",
    "*Примечание. В данном контексте под \"большинством\" подразумеваются студенты, имеющее самое частое значение пропусков. То есть в данном задании необходимо:*\n",
    "\n",
    "\n",
    "* *Определить самое частое значение наличия внеклассных активностей (да или нет).*\n",
    "* *Для группы студентов, соответствующей этому значению, рассмотреть значения признака «число пропусков».*\n",
    "* *Для каждого значения числа пропусков посчитать, сколько студентов ему соответствует.*\n",
    "* *Выбрать значение числа пропусков с наибольшим числом студентов.*\n",
    "\n"
   ]
  },
  {
   "cell_type": "code",
   "execution_count": 8,
   "metadata": {
    "colab": {},
    "colab_type": "code",
    "id": "-nb9pAmdX4G9"
   },
   "outputs": [
    {
     "data": {
      "text/plain": [
       "0     51\n",
       "2     37\n",
       "4     29\n",
       "6     17\n",
       "8     16\n",
       "10     9\n",
       "14     7\n",
       "3      4\n",
       "16     4\n",
       "15     3\n",
       "12     3\n",
       "7      3\n",
       "11     2\n",
       "1      2\n",
       "9      2\n",
       "18     2\n",
       "20     2\n",
       "13     1\n",
       "5      1\n",
       "17     1\n",
       "22     1\n",
       "25     1\n",
       "30     1\n",
       "54     1\n",
       "56     1\n",
       "Name: absences, dtype: int64"
      ]
     },
     "execution_count": 8,
     "metadata": {},
     "output_type": "execute_result"
    }
   ],
   "source": [
    "act = data[data.activities == 'yes']\n",
    "act['absences'].value_counts()"
   ]
  },
  {
   "cell_type": "code",
   "execution_count": null,
   "metadata": {},
   "outputs": [],
   "source": []
  }
 ],
 "metadata": {
  "colab": {
   "collapsed_sections": [],
   "name": "Неделя1_pandas.ipynb",
   "provenance": []
  },
  "kernelspec": {
   "display_name": "Python 3",
   "language": "python",
   "name": "python3"
  },
  "language_info": {
   "codemirror_mode": {
    "name": "ipython",
    "version": 3
   },
   "file_extension": ".py",
   "mimetype": "text/x-python",
   "name": "python",
   "nbconvert_exporter": "python",
   "pygments_lexer": "ipython3",
   "version": "3.8.8"
  }
 },
 "nbformat": 4,
 "nbformat_minor": 1
}
